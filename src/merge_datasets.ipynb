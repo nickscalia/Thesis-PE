{
 "cells": [
  {
   "cell_type": "code",
   "execution_count": 1,
   "id": "f901659e-27b2-4da3-a52e-2e6ea33c53a4",
   "metadata": {},
   "outputs": [],
   "source": [
    "import os\n",
    "import pandas as pd"
   ]
  },
  {
   "cell_type": "code",
   "execution_count": 2,
   "id": "8e96d63b-48fa-4067-8507-90c6c7af73f9",
   "metadata": {},
   "outputs": [],
   "source": [
    "muscle_name = \"biceps\" # \"biceps\", \"triceps\", \"forearm1\", \"forearm2\"\n",
    "folder_path = '../data/extracted_features/trigno/S01_05_14/' "
   ]
  },
  {
   "cell_type": "code",
   "execution_count": 3,
   "id": "de6bc6b3-08fb-4835-95fe-3f1ca88373c4",
   "metadata": {},
   "outputs": [],
   "source": [
    "csv_files = [file for file in os.listdir(folder_path) if file.endswith(f\"_{muscle_name}.csv\")]\n",
    "dataframes = []\n",
    "\n",
    "for file in csv_files:\n",
    "    file_path = os.path.join(folder_path, file)\n",
    "    df = pd.read_csv(file_path, index_col=0) \n",
    "    dataframes.append(df)"
   ]
  },
  {
   "cell_type": "code",
   "execution_count": 4,
   "id": "506205d0-53a7-4448-9534-4dff1d57cd9f",
   "metadata": {},
   "outputs": [
    {
     "name": "stdout",
     "output_type": "stream",
     "text": [
      "                 MAV        WL       RMS           VAR       IAV      KURT  \\\n",
      "window_idx                                                                   \n",
      "0           0.004511  0.005198  0.004755  2.262900e-06  1.736563  1.799984   \n",
      "1           0.006352  0.003023  0.006398  5.882000e-07  2.445613  2.589010   \n",
      "2           0.006685  0.000850  0.006690  6.080000e-08  2.573876  1.799795   \n",
      "3           0.006440  0.000730  0.006441  1.260000e-08  2.479283  2.142343   \n",
      "4           0.006558  0.000608  0.006561  3.110000e-08  2.524974  1.799184   \n",
      "\n",
      "                SKEW        LD    SAMPEN       MPK  ZC  SSC  WAMP       MNF  \\\n",
      "window_idx                                                                    \n",
      "0           0.000000  1.004509  0.000118  0.007109  53  105    49  1.335065   \n",
      "1          -0.998771  1.006352  0.007901  0.007109  48  107    45  0.902709   \n",
      "2          -0.000138  1.006685  0.000118  0.007109  52  108    39  1.055315   \n",
      "3           0.262888  1.006440  0.026430  0.006685  50  115    42  1.098310   \n",
      "4           0.000597  1.006558  0.000201  0.006863  49  115    42  1.054011   \n",
      "\n",
      "                     MNP        SM       ISD      label  \n",
      "window_idx                                               \n",
      "0           9.850000e-08  0.003274  0.008704  no weight  \n",
      "1           1.851000e-07  0.003919  0.015762  no weight  \n",
      "2           2.035000e-07  0.005404  0.017231  no weight  \n",
      "3           1.887000e-07  0.005283  0.015971  no weight  \n",
      "4           1.958000e-07  0.005197  0.016572  no weight  \n"
     ]
    }
   ],
   "source": [
    "combined_df = pd.concat(dataframes)\n",
    "print(combined_df.head())"
   ]
  },
  {
   "cell_type": "code",
   "execution_count": 5,
   "id": "54df6b25-c106-4234-8f2c-1c7b4ffeeffb",
   "metadata": {},
   "outputs": [],
   "source": [
    "output_filename = 'combined_dataset_S01.csv'\n",
    "output_path = os.path.join(folder_path, output_filename)\n",
    "\n",
    "combined_df.to_csv(output_path)"
   ]
  }
 ],
 "metadata": {
  "kernelspec": {
   "display_name": "Python [conda env:base] *",
   "language": "python",
   "name": "conda-base-py"
  },
  "language_info": {
   "codemirror_mode": {
    "name": "ipython",
    "version": 3
   },
   "file_extension": ".py",
   "mimetype": "text/x-python",
   "name": "python",
   "nbconvert_exporter": "python",
   "pygments_lexer": "ipython3",
   "version": "3.12.7"
  }
 },
 "nbformat": 4,
 "nbformat_minor": 5
}
