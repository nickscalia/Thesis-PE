{
 "cells": [
  {
   "cell_type": "markdown",
   "id": "fc4cf695-209b-4b6e-a20f-3982ac2bf60c",
   "metadata": {},
   "source": [
    "# Purpose of the Code\n",
    "\n",
    "The goal of this notebook is to load multiple CSV datasets from a specified folder and concatenates them into a single DataFrame. "
   ]
  },
  {
   "cell_type": "markdown",
   "id": "d9f2eb39-3325-4d00-899b-565ac4bd2fa4",
   "metadata": {},
   "source": [
    "## Environment Setup"
   ]
  },
  {
   "cell_type": "code",
   "execution_count": 1,
   "id": "f901659e-27b2-4da3-a52e-2e6ea33c53a4",
   "metadata": {},
   "outputs": [],
   "source": [
    "import os\n",
    "import pandas as pd"
   ]
  },
  {
   "cell_type": "code",
   "execution_count": 2,
   "id": "8e96d63b-48fa-4067-8507-90c6c7af73f9",
   "metadata": {},
   "outputs": [
    {
     "data": {
      "text/plain": [
       "\" input_folder = f'../data/mvc_values/myo/S{subject}_{date}/datasets'\\noutput_folder = f'../data/mvc_values/myo/S{subject}_{date}'\\noutput_filename = f'combined_dataset.csv' # Name of the output CSV file\\nidx = True \""
      ]
     },
     "execution_count": 2,
     "metadata": {},
     "output_type": "execute_result"
    }
   ],
   "source": [
    "# Parameters\n",
    "date = \"05_14\"\n",
    "subject = \"01\"\n",
    "\n",
    "# Paths for input and output\n",
    "# Features datasets\n",
    "input_folder = f'../data/extracted_features/trigno/S{subject}_{date}/features'\n",
    "output_folder = f'../data/extracted_features/trigno/S{subject}_{date}'\n",
    "output_filename = f'combined_dataset_S{subject}.csv' # Name of the output CSV file \n",
    "idx = False\n",
    "\n",
    "# MVC datasets\n",
    "\"\"\" input_folder = f'../data/mvc_values/myo/S{subject}_{date}/datasets'\n",
    "output_folder = f'../data/mvc_values/myo/S{subject}_{date}'\n",
    "output_filename = f'combined_dataset.csv' # Name of the output CSV file\n",
    "idx = True \"\"\""
   ]
  },
  {
   "cell_type": "markdown",
   "id": "c5609b98-f458-444c-bc35-2e5db93954a2",
   "metadata": {},
   "source": [
    "# Load Data Files & Concatenation"
   ]
  },
  {
   "cell_type": "code",
   "execution_count": 3,
   "id": "de6bc6b3-08fb-4835-95fe-3f1ca88373c4",
   "metadata": {},
   "outputs": [],
   "source": [
    "csv_files = [file for file in os.listdir(input_folder) if file.endswith('.csv')] # Import CSV files\n",
    "dataframes = []\n",
    "\n",
    "for file in csv_files:\n",
    "    file_path = os.path.join(input_folder, file)\n",
    "    df = pd.read_csv(file_path, index_col=0) \n",
    "    dataframes.append(df)"
   ]
  },
  {
   "cell_type": "code",
   "execution_count": 4,
   "id": "506205d0-53a7-4448-9534-4dff1d57cd9f",
   "metadata": {},
   "outputs": [],
   "source": [
    "combined_df = pd.concat(dataframes) # Concatenate all the dataframes"
   ]
  },
  {
   "cell_type": "markdown",
   "id": "5a7abc54-d63f-4ff8-98ac-f18edd9222b1",
   "metadata": {},
   "source": [
    "# Concatenated Dataset Export"
   ]
  },
  {
   "cell_type": "code",
   "execution_count": 5,
   "id": "54df6b25-c106-4234-8f2c-1c7b4ffeeffb",
   "metadata": {},
   "outputs": [],
   "source": [
    "output_path = os.path.join(output_folder, output_filename) # Create full path for output CSV file\n",
    "combined_df.to_csv(output_path, index=idx) # Save dataframe with features and labels to CSV"
   ]
  }
 ],
 "metadata": {
  "kernelspec": {
   "display_name": "Python [conda env:base] *",
   "language": "python",
   "name": "conda-base-py"
  },
  "language_info": {
   "codemirror_mode": {
    "name": "ipython",
    "version": 3
   },
   "file_extension": ".py",
   "mimetype": "text/x-python",
   "name": "python",
   "nbconvert_exporter": "python",
   "pygments_lexer": "ipython3",
   "version": "3.12.7"
  }
 },
 "nbformat": 4,
 "nbformat_minor": 5
}
