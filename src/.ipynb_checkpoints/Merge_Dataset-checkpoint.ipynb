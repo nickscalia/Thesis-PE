{
 "cells": [
  {
   "cell_type": "code",
   "execution_count": 1,
   "id": "f901659e-27b2-4da3-a52e-2e6ea33c53a4",
   "metadata": {},
   "outputs": [],
   "source": [
    "import os\n",
    "import pandas as pd"
   ]
  },
  {
   "cell_type": "code",
   "execution_count": 4,
   "id": "de6bc6b3-08fb-4835-95fe-3f1ca88373c4",
   "metadata": {},
   "outputs": [
    {
     "data": {
      "text/plain": [
       "[             MVC\n",
       " biceps  0.522714,\n",
       "               MVC\n",
       " triceps  0.204784]"
      ]
     },
     "execution_count": 4,
     "metadata": {},
     "output_type": "execute_result"
    }
   ],
   "source": [
    "folder_path = '../data/_MVC'  # dataset folder path\n",
    "csv_files = [file for file in os.listdir(folder_path) if file.endswith('.csv')]\n",
    "dataframes = []\n",
    "\n",
    "for file in csv_files:\n",
    "    file_path = os.path.join(folder_path, file)\n",
    "    df = pd.read_csv(file_path, index_col=0) \n",
    "    dataframes.append(df)\n",
    "dataframes"
   ]
  },
  {
   "cell_type": "code",
   "execution_count": 5,
   "id": "506205d0-53a7-4448-9534-4dff1d57cd9f",
   "metadata": {},
   "outputs": [
    {
     "name": "stdout",
     "output_type": "stream",
     "text": [
      "              MVC\n",
      "biceps   0.522714\n",
      "triceps  0.204784\n"
     ]
    }
   ],
   "source": [
    "# Unisce tutti i DataFrame in uno solo\n",
    "combined_df = pd.concat(dataframes)\n",
    "\n",
    "combined_df.to_csv('../data/_MVC/Combined_dataset.csv')\n",
    "\n",
    "# Visualizzazione (opzionale)\n",
    "print(combined_df.head())"
   ]
  }
 ],
 "metadata": {
  "kernelspec": {
   "display_name": "Python [conda env:base] *",
   "language": "python",
   "name": "conda-base-py"
  },
  "language_info": {
   "codemirror_mode": {
    "name": "ipython",
    "version": 3
   },
   "file_extension": ".py",
   "mimetype": "text/x-python",
   "name": "python",
   "nbconvert_exporter": "python",
   "pygments_lexer": "ipython3",
   "version": "3.12.7"
  }
 },
 "nbformat": 4,
 "nbformat_minor": 5
}
