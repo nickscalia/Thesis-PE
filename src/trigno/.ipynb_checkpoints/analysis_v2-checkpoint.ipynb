{
 "cells": [
  {
   "cell_type": "markdown",
   "id": "51283595-e0b3-444f-bfaa-6c271b566cda",
   "metadata": {},
   "source": [
    "# Purpose of the Code\n",
    "\n",
    "The goal of this notebook is to extract EMG signals recorded using Trigno system, process the raw data, extract meaningful features, and store the resulting information in a structured DataFrame format."
   ]
  },
  {
   "cell_type": "markdown",
   "id": "a5c7e8eb-0eac-4f13-9021-7073110cb329",
   "metadata": {},
   "source": [
    "## Environment Setup"
   ]
  },
  {
   "cell_type": "code",
   "execution_count": 1,
   "id": "ee273ea5-dfaa-403f-97b8-610490043f63",
   "metadata": {},
   "outputs": [],
   "source": [
    "# pip install libemg  # Required only if you have never installed the libemg package\n",
    "# pip install --upgrade paramiko cryptography  # Needed during first-time installation of libemg to resolve dependencies"
   ]
  },
  {
   "cell_type": "code",
   "execution_count": 2,
   "id": "829ba945-3bd8-47c8-9c5d-0e65da68d871",
   "metadata": {},
   "outputs": [],
   "source": [
    "import os\n",
    "import pandas as pd\n",
    "import numpy as np\n",
    "import sys\n",
    "sys.path.append('../../lib')\n",
    "from import_emg_file import import_data_from_trigno\n",
    "from trigno_utils import trigno_dataframe_edit, trigno_extract_muscle_emg\n",
    "from emg_utils import plot_emg_signal, emg_filters, extract_emg_windows, extract_emg_features\n",
    "from features_utils import combine_multiple_features_lists, detect_segments, assign_emg_labels"
   ]
  },
  {
   "cell_type": "code",
   "execution_count": 3,
   "id": "ae5749b8-a4c3-49a6-b6ba-11e736d3cc73",
   "metadata": {},
   "outputs": [],
   "source": [
    "# Parameters\n",
    "intensity = \"heavy\"  # Intensity of the task: \"light\", \"medium\", or \"heavy\"\n",
    "muscle_names = [\"biceps\", \"triceps\", \"forearm1\", \"forearm2\"]  # Target muscle: \"biceps\", \"triceps\", \"forearm1\", or \"forearm2\"\n",
    "muscle_ref = \"biceps\" # Reference muscle for true label assignment\n",
    "w_d = 0.2  # Window duration in seconds for feature extraction\n",
    "ov = 0.5  # Overlap percentage between windows (e.g., 0.5 = 50%)\n",
    "n_lifts = 3  # Number of lifts\n",
    "fs_list = []  # Initialize list to store sampling frequencies\n",
    "\n",
    "# Feature lists\n",
    "features_list_norm = ['MAV', 'WL', 'RMS', 'VAR', 'IAV', 'KURT', 'SKEW', 'AR4', 'LD', 'SAMPEN', 'MPK']  # Features on normalized signal\n",
    "features_list_filt = ['ZC', 'SSC', 'WAMP']  # Features on filtered signal\n",
    "features_list_freq = ['MNF', 'MNP', 'SM', 'ISD']  # Frequency-domain features\n",
    "\n",
    "# Paths for input and output\n",
    "input_folder = f'../../data/acquisitions/trigno/05_14/{intensity}/'  # Input folder with raw data\n",
    "output_folder = '../../data/extracted_features/trigno/S01_05_14/'  # Output folder to save extracted features\n",
    "output_filename = f\"features_{intensity}.csv\"  # Name of the output CSV file"
   ]
  },
  {
   "cell_type": "markdown",
   "id": "a3d702b3-a86f-4f29-8284-61ba02c40dc9",
   "metadata": {},
   "source": [
    "# Loading Data Files"
   ]
  },
  {
   "cell_type": "code",
   "execution_count": 4,
   "id": "e129f933-8225-43a6-bb9a-46b02e54a5ed",
   "metadata": {},
   "outputs": [],
   "source": [
    "dataframes = import_data_from_trigno(input_folder)  # Import raw data from Trigno folder\n",
    "dataframes = [trigno_dataframe_edit(df) for df in dataframes]  # Format each imported dataframe"
   ]
  },
  {
   "cell_type": "code",
   "execution_count": 5,
   "id": "a736793c-fb51-48f2-953d-74e0f01360e0",
   "metadata": {},
   "outputs": [],
   "source": [
    "muscle_emg_raw, emg_time = trigno_extract_muscle_emg(dataframes, muscle_names)  # Extract EMG signals and timestamps for the specified muscle\n",
    "# for muscle in muscle_names:\n",
    "    # plot_emg_signal(muscle_emg_raw[muscle][0], emg_time[0], title=f\"{muscle} EMG Raw Signal #1\")  # Plot raw EMG signal"
   ]
  },
  {
   "cell_type": "markdown",
   "id": "c1d38c30-0352-4649-a19f-0c3818f18715",
   "metadata": {},
   "source": [
    "# EMG Signal Analysis"
   ]
  },
  {
   "cell_type": "markdown",
   "id": "303f6dad-7038-41bb-a392-bd074b64b6f6",
   "metadata": {},
   "source": [
    "## Filtering, Rectification, Smoothing and Normalization"
   ]
  },
  {
   "cell_type": "code",
   "execution_count": 6,
   "id": "fe365b0b-f51f-4caf-b2b0-2c88b2ef0217",
   "metadata": {},
   "outputs": [],
   "source": [
    "for time in emg_time:\n",
    "    fs = 1.0 / np.mean(np.diff(time))  # Calculate sampling frequency from time intervals\n",
    "    fs_list.append(fs)  "
   ]
  },
  {
   "cell_type": "code",
   "execution_count": 7,
   "id": "765e8bc1-4c49-4391-91f8-4075614b56b6",
   "metadata": {},
   "outputs": [],
   "source": [
    "muscle_emg_filtered, _, _, muscle_emg_normalized = emg_filters(muscle_emg_raw, emg_time, fs_list, muscle_names)  # Filter EMG signals\n",
    "# for muscle in muscle_names:\n",
    "    # plot_emg_signal(muscle_emg_normalized[muscle][0], emg_time[0], \n",
    "                    # title=f\"{muscle} EMG Normalized Signal #1\", ylabel=\"EMG / MVC\")  # Plot normalized EMG signal"
   ]
  },
  {
   "cell_type": "markdown",
   "id": "e6131ee2-572b-40f2-8569-ce9f485ab4df",
   "metadata": {},
   "source": [
    "## Windowing and Features Extraction"
   ]
  },
  {
   "cell_type": "code",
   "execution_count": 8,
   "id": "e1fa12bf-b5a8-48c5-81cd-b06e67bc9140",
   "metadata": {},
   "outputs": [],
   "source": [
    "normalized_win, filtered_win, time_win = extract_emg_windows(\n",
    "    muscle_emg_normalized, muscle_emg_filtered, emg_time, fs_list,\n",
    "    window_duration=w_d, overlap=ov)  # Extract windows with specified duration and overlap"
   ]
  },
  {
   "cell_type": "code",
   "execution_count": 9,
   "id": "8ad4a8d5-2085-4934-80f6-12a6a65353bd",
   "metadata": {},
   "outputs": [],
   "source": [
    "# Features Extraction\n",
    "time_features_norm = extract_emg_features(normalized_win, features_list_norm)  # Extract time-domain features from normalized EMG windows\n",
    "time_features_filt = extract_emg_features(filtered_win, features_list_filt)  # Extract time-domain features from filtered EMG windows\n",
    "freq_features_norm = extract_emg_features(normalized_win, features_list_freq)  # Extract frequency-domain features from normalized EMG windows"
   ]
  },
  {
   "cell_type": "code",
   "execution_count": 10,
   "id": "7ebbec32-8734-4031-8b9a-079469971745",
   "metadata": {},
   "outputs": [],
   "source": [
    "dfs = combine_multiple_features_lists(time_features_norm, time_features_filt, freq_features_norm)  # Combine all feature lists into a single dataframe"
   ]
  },
  {
   "cell_type": "markdown",
   "id": "3c724922-c32a-4e3a-9021-34c41b4019aa",
   "metadata": {},
   "source": [
    "## Label Assignment"
   ]
  },
  {
   "cell_type": "code",
   "execution_count": 11,
   "id": "64c32a6a-0241-4416-bdb4-971b423aec2f",
   "metadata": {},
   "outputs": [],
   "source": [
    "all_bkps_list = detect_segments(muscle_emg_normalized[muscle_ref], emg_time, intensity, n_lifts, plot=False)  # Detect lifts segments"
   ]
  },
  {
   "cell_type": "code",
   "execution_count": 12,
   "id": "96d5cde8-01c9-49c7-9d60-72e00dd958b3",
   "metadata": {},
   "outputs": [],
   "source": [
    "dfs['label'] = assign_emg_labels(all_bkps_list, normalized_win[muscle_ref], fs_list, w_d, ov, intensity)  # Assign activity labels"
   ]
  },
  {
   "cell_type": "markdown",
   "id": "b5bda2ff-ed2a-4cc5-a506-7fb4f363ff41",
   "metadata": {},
   "source": [
    "# Features Export"
   ]
  },
  {
   "cell_type": "code",
   "execution_count": 13,
   "id": "bf55076f-3683-41a1-8fa2-50b5ff49152a",
   "metadata": {},
   "outputs": [],
   "source": [
    "output_path = os.path.join(output_folder, output_filename)  # Create full path for output CSV file\n",
    "dfs.to_csv(output_path, index=False)  # Save dataframe with features and labels to CSV"
   ]
  }
 ],
 "metadata": {
  "kernelspec": {
   "display_name": "Python [conda env:base] *",
   "language": "python",
   "name": "conda-base-py"
  },
  "language_info": {
   "codemirror_mode": {
    "name": "ipython",
    "version": 3
   },
   "file_extension": ".py",
   "mimetype": "text/x-python",
   "name": "python",
   "nbconvert_exporter": "python",
   "pygments_lexer": "ipython3",
   "version": "3.12.7"
  }
 },
 "nbformat": 4,
 "nbformat_minor": 5
}
