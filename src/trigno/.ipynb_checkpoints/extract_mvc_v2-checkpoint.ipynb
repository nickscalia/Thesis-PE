{
 "cells": [
  {
   "cell_type": "markdown",
   "id": "7773a633-dcb5-425a-8e2b-b983d6a6a825",
   "metadata": {},
   "source": [
    "# Purpose of the Code\n",
    "\n",
    "The goal of this notebook is to extract the Maximum Voluntary Contraction (MVC) value from EMG signal recorded from a specific muscle using Trigno system. The code processes the raw EMG data, identifies the segment corresponding to the peak muscle activation, and computes the maximum amplitude."
   ]
  },
  {
   "cell_type": "markdown",
   "id": "9f71296f-972a-4ca7-bf49-a2ce70fbb4ac",
   "metadata": {},
   "source": [
    "## Environment Setup"
   ]
  },
  {
   "cell_type": "code",
   "execution_count": 1,
   "id": "be1bd260-f4a1-4849-9332-280549c5d04d",
   "metadata": {},
   "outputs": [],
   "source": [
    "import os\n",
    "import pandas as pd\n",
    "import numpy as np\n",
    "import sys\n",
    "sys.path.append('../../lib')\n",
    "from import_emg_file import import_data_from_trigno\n",
    "from trigno_utils import trigno_dataframe_edit, trigno_extract_muscle_emg\n",
    "from emg_utils import plot_emg_signal, emg_filters, compute_MVC"
   ]
  },
  {
   "cell_type": "code",
   "execution_count": 2,
   "id": "a6ba0733-07b2-452c-ba1c-772d0e53ef4d",
   "metadata": {},
   "outputs": [],
   "source": [
    "# Parameters\n",
    "muscle_names = [\"biceps\"]  # Target muscle: \"biceps\", \"triceps\", \"forearm1\", or \"forearm2\"\n",
    "\n",
    "# Paths for input and output\n",
    "input_folder = f'../../data/acquisitions/trigno/05_14/_mvc/{muscle_names[0]}'  # Input folder with raw data\n",
    "full_path = os.path.join('../../data/mvc_values/trigno/datasets', f'MVC_S01_{muscle_names[0]}.csv') # output folder and file name"
   ]
  },
  {
   "cell_type": "markdown",
   "id": "75612749-8305-4d9c-be82-cb6272f041e6",
   "metadata": {},
   "source": [
    "# Load Data Files"
   ]
  },
  {
   "cell_type": "code",
   "execution_count": 3,
   "id": "7c763b9e-4b0d-46f5-9e24-63a8b3ece5d6",
   "metadata": {},
   "outputs": [],
   "source": [
    "dataframes = import_data_from_trigno(input_folder)\n",
    "dataframes = [trigno_dataframe_edit(df) for df in dataframes]"
   ]
  },
  {
   "cell_type": "code",
   "execution_count": 4,
   "id": "8e11a410-41fe-4f37-9154-e0fd545763d5",
   "metadata": {},
   "outputs": [],
   "source": [
    "muscle_emg_raw, emg_time = trigno_extract_muscle_emg(dataframes, muscle_names)  # Extract EMG signals and timestamps for the specified muscle\n",
    "# for muscle in muscle_names:\n",
    "    # plot_emg_signal(muscle_emg_raw[muscle][0], emg_time[0], title=f\"{muscle} EMG Raw Signal #1\")  # Plot raw EMG signal"
   ]
  },
  {
   "cell_type": "markdown",
   "id": "0a2f6afc-c63f-4afe-bbb7-df9541d77228",
   "metadata": {},
   "source": [
    "# EMG Signal Analysis"
   ]
  },
  {
   "cell_type": "code",
   "execution_count": 5,
   "id": "08032344-341d-4712-8f57-c21776032829",
   "metadata": {},
   "outputs": [],
   "source": [
    "fs_list = []  # Initialize list to store sampling frequencies\n",
    "for time in emg_time:\n",
    "    fs = 1.0 / np.mean(np.diff(time))  # Calculate sampling frequency from time intervals\n",
    "    fs_list.append(fs)  "
   ]
  },
  {
   "cell_type": "code",
   "execution_count": 6,
   "id": "1469a9d0-b275-450a-9987-e227f8ff93ad",
   "metadata": {},
   "outputs": [],
   "source": [
    "_, _, muscle_emg_smoothed = emg_filters(muscle_emg_raw, emg_time, fs_list)  # Filter EMG signals\n",
    "# for muscle in muscle_names:\n",
    "    # plot_emg_signal(muscle_emg_smoothed[muscle][0], emg_time[0], \n",
    "                    # title=f\"{muscle} EMG Smoothed Signal #1\")  # Plot smoothed EMG signal"
   ]
  },
  {
   "cell_type": "markdown",
   "id": "827bf941-3aec-48c2-bbdd-78469daeddf2",
   "metadata": {},
   "source": [
    "## Compute MVC"
   ]
  },
  {
   "cell_type": "code",
   "execution_count": 10,
   "id": "7b1938bb-603b-42f7-91bc-2c2101d88f7f",
   "metadata": {},
   "outputs": [
    {
     "name": "stdout",
     "output_type": "stream",
     "text": [
      "962\n",
      "62426\n"
     ]
    }
   ],
   "source": [
    "fs = 1/np.mean(np.diff(emg_time))\n",
    "mvc = compute_MVC(muscle_emg_smoothed[muscle_names[0]][0], fs)"
   ]
  },
  {
   "cell_type": "markdown",
   "id": "e84f49dc-5c16-479b-88ed-5c77bebfb463",
   "metadata": {},
   "source": [
    "# Export MVC"
   ]
  },
  {
   "cell_type": "code",
   "execution_count": 13,
   "id": "efc6be0b-edf8-451a-a4b9-42fb7ab5f17e",
   "metadata": {},
   "outputs": [
    {
     "name": "stdout",
     "output_type": "stream",
     "text": [
      "             MVC\n",
      "biceps  0.451202\n"
     ]
    }
   ],
   "source": [
    "mvc_dict = {muscle_names[0]: mvc}\n",
    "mvc_df = pd.DataFrame.from_dict(mvc_dict, orient='index', columns=['MVC'])\n",
    "print(mvc_df)"
   ]
  },
  {
   "cell_type": "code",
   "execution_count": null,
   "id": "1002236b-2ebd-4f18-a7d2-894b7b05a227",
   "metadata": {},
   "outputs": [],
   "source": [
    "mvc_df.to_csv(full_path)"
   ]
  }
 ],
 "metadata": {
  "kernelspec": {
   "display_name": "Python [conda env:base] *",
   "language": "python",
   "name": "conda-base-py"
  },
  "language_info": {
   "codemirror_mode": {
    "name": "ipython",
    "version": 3
   },
   "file_extension": ".py",
   "mimetype": "text/x-python",
   "name": "python",
   "nbconvert_exporter": "python",
   "pygments_lexer": "ipython3",
   "version": "3.12.7"
  }
 },
 "nbformat": 4,
 "nbformat_minor": 5
}
