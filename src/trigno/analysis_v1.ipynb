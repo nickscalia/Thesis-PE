{
 "cells": [
  {
   "cell_type": "markdown",
   "id": "fc3d5174-ddf8-4465-bc56-15f35334c91c",
   "metadata": {},
   "source": [
    "# Purpose of the Code\n",
    "\n",
    "The goal of this notebook is to extract EMG signals recorded using Trigno system, process the raw data, extract meaningful features, and store the resulting information in a structured DataFrame format.\n"
   ]
  },
  {
   "cell_type": "markdown",
   "id": "716f1bfb-bfad-48c7-8b42-982b2236d4bb",
   "metadata": {},
   "source": [
    "## Environment Setup"
   ]
  },
  {
   "cell_type": "code",
   "execution_count": 1,
   "id": "a5d7851a-1b63-4d9a-9e2c-480b79bce1f6",
   "metadata": {},
   "outputs": [],
   "source": [
    "# pip install libemg  # Required only if you have never installed the libemg package\n",
    "# pip install --upgrade paramiko cryptography  # Needed during first-time installation of libemg to resolve dependencies"
   ]
  },
  {
   "cell_type": "code",
   "execution_count": 2,
   "id": "0b477583-ea3f-4739-b453-6f62bb020669",
   "metadata": {},
   "outputs": [],
   "source": [
    "import os\n",
    "import pandas as pd\n",
    "import numpy as np\n",
    "import sys\n",
    "sys.path.append('../../lib')\n",
    "from import_emg_file import import_data_from_trigno\n",
    "from trigno_utils import trigno_dataframe_edit, trigno_extract_muscle_emg\n",
    "from emg_utils import plot_emg_signal, emg_filters, extract_emg_windows, extract_emg_features\n",
    "from features_utils import combine_multiple_features_lists, detect_segments, assign_emg_labels"
   ]
  },
  {
   "cell_type": "code",
   "execution_count": 15,
   "id": "0e21e094-cc3d-4617-948a-d4ee3a44056c",
   "metadata": {},
   "outputs": [],
   "source": [
    "# Parameters\n",
    "intensity = \"light\"  # Intensity of the task: \"light\", \"medium\", or \"heavy\"\n",
    "muscle_name = \"biceps\"  # Target muscle: \"biceps\", \"triceps\", \"forearm1\", or \"forearm2\"\n",
    "w_d = 0.2  # Window duration in seconds for feature extraction\n",
    "ov = 0.5  # Overlap percentage between windows (e.g., 0.5 = 50%)\n",
    "n_lifts = 3  # Number of lifts\n",
    "\n",
    "# Feature lists\n",
    "features_list_norm = ['MAV', 'WL', 'RMS', 'VAR', 'IAV', 'KURT', 'SKEW', 'AR4', 'LD', 'SAMPEN', 'MPK']  # Features on normalized signal\n",
    "features_list_filt = ['ZC', 'SSC', 'WAMP']  # Features on filtered signal\n",
    "features_list_freq = ['MNF', 'MNP', 'SM', 'ISD']  # Frequency-domain features\n",
    "\n",
    "# Paths for input and output\n",
    "input_folder = f'../../data/acquisitions/trigno/05_14/{intensity}/'  # Input folder with raw data\n",
    "output_folder = '../../data/extracted_features/trigno/S01_05_14/'  # Output folder to save extracted features\n",
    "output_filename = f\"features_{intensity}_{muscle_name}.csv\"  # Name of the output CSV file"
   ]
  },
  {
   "cell_type": "markdown",
   "id": "9331b5f2-b377-4d3d-bd9f-468a3ca4fa6b",
   "metadata": {},
   "source": [
    "# Loading Data Files"
   ]
  },
  {
   "cell_type": "code",
   "execution_count": 4,
   "id": "0bf71678-da3d-4afe-b21d-e673452b4af7",
   "metadata": {},
   "outputs": [],
   "source": [
    "dataframes = import_data_from_trigno(input_folder)  # Import raw data from Trigno folder\n",
    "dataframes = [trigno_dataframe_edit(df) for df in dataframes]  # Format each imported dataframe"
   ]
  },
  {
   "cell_type": "code",
   "execution_count": 5,
   "id": "88521e96-5784-4f50-9a73-c6998db16294",
   "metadata": {},
   "outputs": [],
   "source": [
    "muscle_emg_raw, emg_time = trigno_extract_muscle_emg(dataframes, muscle_name)  # Extract EMG signals and timestamps for the specified muscle\n",
    "# plot_emg_signal(muscle_emg_raw[0], emg_time[0], title=f\"{muscle_name} EMG Raw Signal #1\")  #Plot raw EMG signal"
   ]
  },
  {
   "cell_type": "markdown",
   "id": "b0552c3b-eb10-435a-96d1-76f4368b2b8d",
   "metadata": {},
   "source": [
    "# EMG Signal Analysis"
   ]
  },
  {
   "cell_type": "markdown",
   "id": "4d47d176-bae0-4b9c-9ea4-88cd1040a4dd",
   "metadata": {},
   "source": [
    "## Filtering, Rectification, Smoothing and Normalization"
   ]
  },
  {
   "cell_type": "code",
   "execution_count": 6,
   "id": "590d3bbe-ca3a-42b3-9995-63b558467718",
   "metadata": {},
   "outputs": [],
   "source": [
    "fs_list = []  # Initialize list to store sampling frequencies\n",
    "for time in emg_time:\n",
    "    fs = 1.0 / np.mean(np.diff(time))  # Calculate sampling frequency from time intervals\n",
    "    fs_list.append(fs)  "
   ]
  },
  {
   "cell_type": "code",
   "execution_count": 7,
   "id": "8d655b50-34eb-4d9e-b835-dd672e3098c5",
   "metadata": {},
   "outputs": [],
   "source": [
    "muscle_emg_filtered, _, _, muscle_emg_normalized = emg_filters(muscle_emg_raw, emg_time, fs_list, muscle_name)  # Filter EMG signals\n",
    "# plot_emg_signal(muscle_emg_normalized[0], emg_time[0], title=f\"{muscle_name} EMG Normalized Signal #1\", ylabel=\"%MVC\")  # Plot normalized EMG signal"
   ]
  },
  {
   "cell_type": "markdown",
   "id": "3c2db1c2-0a55-4ab4-90b9-b5013aad8703",
   "metadata": {},
   "source": [
    "## Windowing and Features Extraction"
   ]
  },
  {
   "cell_type": "code",
   "execution_count": 8,
   "id": "0b1a900d-ce36-4f90-9484-6c404b230e25",
   "metadata": {},
   "outputs": [],
   "source": [
    "# Windowing\n",
    "normalized_win, filtered_win, time_win = extract_emg_windows(\n",
    "    muscle_emg_normalized, muscle_emg_filtered, emg_time, fs_list,\n",
    "    window_duration=w_d, overlap=ov)  # Extract windows with specified duration and overlap"
   ]
  },
  {
   "cell_type": "code",
   "execution_count": 9,
   "id": "1e51d1b6-5c38-4a2b-ac1e-a0d5694782b4",
   "metadata": {},
   "outputs": [],
   "source": [
    "# Features Extraction\n",
    "time_features_norm = extract_emg_features(normalized_win, features_list_norm)  # Extract time-domain features from normalized EMG windows\n",
    "time_features_filt = extract_emg_features(filtered_win, features_list_filt)  # Extract time-domain features from filtered EMG windows\n",
    "freq_features_norm = extract_emg_features(normalized_win, features_list_freq)  # Extract frequency-domain features from normalized EMG windows"
   ]
  },
  {
   "cell_type": "code",
   "execution_count": 10,
   "id": "3dff9661-14a5-4014-9200-6d4a65d99579",
   "metadata": {},
   "outputs": [],
   "source": [
    "dfs = combine_multiple_features_lists(time_features_norm, time_features_filt, freq_features_norm)  # Combine all feature lists into a single dataframe"
   ]
  },
  {
   "cell_type": "markdown",
   "id": "bdd1f27a-325b-4f78-a51e-2b7a0ef3903b",
   "metadata": {},
   "source": [
    "## Label Assignment"
   ]
  },
  {
   "cell_type": "code",
   "execution_count": 16,
   "id": "b1e79a95-89a1-4961-8b1e-8f1c6fedfff2",
   "metadata": {},
   "outputs": [],
   "source": [
    "all_bkps_list = detect_segments(muscle_emg_normalized, emg_time, intensity, n_lifts, plot=False)  # Detect lifts segments"
   ]
  },
  {
   "cell_type": "code",
   "execution_count": 13,
   "id": "dfda79c6-46a2-4c66-8f28-7c8201331849",
   "metadata": {},
   "outputs": [],
   "source": [
    "dfs['label'] = assign_emg_labels(all_bkps_list, normalized_win, fs_list, w_d, ov, intensity)  # Assign activity labels"
   ]
  },
  {
   "cell_type": "markdown",
   "id": "54912b61-96e5-472f-b347-d51437885ef8",
   "metadata": {},
   "source": [
    "# Features Export"
   ]
  },
  {
   "cell_type": "code",
   "execution_count": 14,
   "id": "4952b8ee-a340-4106-a457-6c29d24c9c48",
   "metadata": {},
   "outputs": [],
   "source": [
    "output_path = os.path.join(output_folder, output_filename)  # Create full path for output CSV file\n",
    "dfs.to_csv(output_path, index=False)  # Save dataframe with features and labels to CSV"
   ]
  }
 ],
 "metadata": {
  "kernelspec": {
   "display_name": "Python [conda env:base] *",
   "language": "python",
   "name": "conda-base-py"
  },
  "language_info": {
   "codemirror_mode": {
    "name": "ipython",
    "version": 3
   },
   "file_extension": ".py",
   "mimetype": "text/x-python",
   "name": "python",
   "nbconvert_exporter": "python",
   "pygments_lexer": "ipython3",
   "version": "3.12.7"
  }
 },
 "nbformat": 4,
 "nbformat_minor": 5
}
